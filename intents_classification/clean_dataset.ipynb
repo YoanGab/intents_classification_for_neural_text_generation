{
 "cells": [
  {
   "cell_type": "code",
   "execution_count": 5,
   "metadata": {
    "collapsed": true
   },
   "outputs": [],
   "source": [
    "import json\n",
    "import pathlib\n",
    "\n",
    "import pandas as pd"
   ]
  },
  {
   "cell_type": "code",
   "execution_count": 2,
   "outputs": [
    {
     "name": "stdout",
     "output_type": "stream",
     "text": [
      "/Users/yoangabison/Library/Mobile Documents/com~apple~CloudDocs/files/Ecole/A5/nlp_project/intents_classification\n"
     ]
    }
   ],
   "source": [
    "import os\n",
    "\n",
    "print(os.getcwd())"
   ],
   "metadata": {
    "collapsed": false
   }
  },
  {
   "cell_type": "code",
   "execution_count": 4,
   "outputs": [],
   "source": [
    "folder_path: pathlib.Path = pathlib.Path(\n",
    "    '../nlu-benchmark/2017-06-custom-intent-engines')"
   ],
   "metadata": {
    "collapsed": false
   }
  },
  {
   "cell_type": "code",
   "execution_count": 28,
   "outputs": [],
   "source": [
    "def clean_dataset(file_path: pathlib.Path, df: pd.DataFrame) -> pd.DataFrame:\n",
    "    with open(file_path.absolute(), 'r') as f:\n",
    "        data = json.load(f)\n",
    "        for intent, utterances in data.items():\n",
    "            for utterance in utterances:\n",
    "                text = \"\"\n",
    "                for part in utterance[\"data\"]:\n",
    "                    text += part[\"text\"]\n",
    "                df = pd.concat([df, pd.DataFrame({'text': [text], 'intent': [intent]})],\n",
    "                               ignore_index=True)\n",
    "    return df"
   ],
   "metadata": {
    "collapsed": false
   }
  },
  {
   "cell_type": "code",
   "execution_count": 29,
   "outputs": [
    {
     "name": "stdout",
     "output_type": "stream",
     "text": [
      "train_PlayMusic_full\n",
      "train_RateBook_full\n",
      "train_SearchCreativeWork_full\n",
      "train_GetWeather_full\n",
      "train_BookRestaurant_full\n",
      "train_AddToPlaylist_full\n",
      "train_SearchScreeningEvent_full\n"
     ]
    }
   ],
   "source": [
    "df: pd.DataFrame = pd.DataFrame(columns=['text', 'intent'])\n",
    "for folder in folder_path.iterdir():\n",
    "    if not folder.is_dir():\n",
    "        continue\n",
    "    for file in folder.iterdir():\n",
    "        if file.suffix == '.json' and file.name.endswith(\n",
    "                '_full.json') and file.name.startswith('train_'):\n",
    "            print(file.stem)\n",
    "            df = clean_dataset(file, df)"
   ],
   "metadata": {
    "collapsed": false
   }
  },
  {
   "cell_type": "code",
   "execution_count": 37,
   "outputs": [
    {
     "name": "stdout",
     "output_type": "stream",
     "text": [
      "validate_PlayMusic\n",
      "validate_RateBook\n",
      "validate_SearchCreativeWork\n",
      "validate_GetWeather\n",
      "validate_BookRestaurant\n",
      "validate_AddToPlaylist\n",
      "validate_SearchScreeningEvent\n"
     ]
    }
   ],
   "source": [
    "validation_df: pd.DataFrame = pd.DataFrame(columns=['text', 'intent'])\n",
    "for folder in folder_path.iterdir():\n",
    "    if not folder.is_dir():\n",
    "        continue\n",
    "    for file in folder.iterdir():\n",
    "        if file.suffix == '.json' and file.name.startswith('validate_'):\n",
    "            print(file.stem)\n",
    "            validation_df = clean_dataset(file, validation_df)"
   ],
   "metadata": {
    "collapsed": false
   }
  },
  {
   "cell_type": "code",
   "execution_count": 30,
   "outputs": [
    {
     "data": {
      "text/plain": "                                                    text                intent\n0      I need to hear the song Aspro Mavro from Bill ...             PlayMusic\n1           play Yo Ho from the new york pops on Youtube             PlayMusic\n2      Play some seventies music by Janne Puurtinen o...             PlayMusic\n3      play the Música Da Série De Filmes O Hobbit al...             PlayMusic\n4                       Play Magic Sam from the thirties             PlayMusic\n...                                                  ...                   ...\n13779  Can a I get the movie schedule for Sympathy fo...  SearchScreeningEvent\n13780  Find movie schedules for animated movies aroun...  SearchScreeningEvent\n13781              what time is Bordertown Trail showing  SearchScreeningEvent\n13782  in the neighbourhood find movies with movie times  SearchScreeningEvent\n13783                 What cinema has the closest movies  SearchScreeningEvent\n\n[13784 rows x 2 columns]",
      "text/html": "<div>\n<style scoped>\n    .dataframe tbody tr th:only-of-type {\n        vertical-align: middle;\n    }\n\n    .dataframe tbody tr th {\n        vertical-align: top;\n    }\n\n    .dataframe thead th {\n        text-align: right;\n    }\n</style>\n<table border=\"1\" class=\"dataframe\">\n  <thead>\n    <tr style=\"text-align: right;\">\n      <th></th>\n      <th>text</th>\n      <th>intent</th>\n    </tr>\n  </thead>\n  <tbody>\n    <tr>\n      <th>0</th>\n      <td>I need to hear the song Aspro Mavro from Bill ...</td>\n      <td>PlayMusic</td>\n    </tr>\n    <tr>\n      <th>1</th>\n      <td>play Yo Ho from the new york pops on Youtube</td>\n      <td>PlayMusic</td>\n    </tr>\n    <tr>\n      <th>2</th>\n      <td>Play some seventies music by Janne Puurtinen o...</td>\n      <td>PlayMusic</td>\n    </tr>\n    <tr>\n      <th>3</th>\n      <td>play the Música Da Série De Filmes O Hobbit al...</td>\n      <td>PlayMusic</td>\n    </tr>\n    <tr>\n      <th>4</th>\n      <td>Play Magic Sam from the thirties</td>\n      <td>PlayMusic</td>\n    </tr>\n    <tr>\n      <th>...</th>\n      <td>...</td>\n      <td>...</td>\n    </tr>\n    <tr>\n      <th>13779</th>\n      <td>Can a I get the movie schedule for Sympathy fo...</td>\n      <td>SearchScreeningEvent</td>\n    </tr>\n    <tr>\n      <th>13780</th>\n      <td>Find movie schedules for animated movies aroun...</td>\n      <td>SearchScreeningEvent</td>\n    </tr>\n    <tr>\n      <th>13781</th>\n      <td>what time is Bordertown Trail showing</td>\n      <td>SearchScreeningEvent</td>\n    </tr>\n    <tr>\n      <th>13782</th>\n      <td>in the neighbourhood find movies with movie times</td>\n      <td>SearchScreeningEvent</td>\n    </tr>\n    <tr>\n      <th>13783</th>\n      <td>What cinema has the closest movies</td>\n      <td>SearchScreeningEvent</td>\n    </tr>\n  </tbody>\n</table>\n<p>13784 rows × 2 columns</p>\n</div>"
     },
     "execution_count": 30,
     "metadata": {},
     "output_type": "execute_result"
    }
   ],
   "source": [
    "df"
   ],
   "metadata": {
    "collapsed": false
   }
  },
  {
   "cell_type": "code",
   "execution_count": 31,
   "outputs": [
    {
     "data": {
      "text/plain": "                      text\nintent                    \nAddToPlaylist         1942\nBookRestaurant        1973\nGetWeather            2000\nPlayMusic             2000\nRateBook              1956\nSearchCreativeWork    1954\nSearchScreeningEvent  1959",
      "text/html": "<div>\n<style scoped>\n    .dataframe tbody tr th:only-of-type {\n        vertical-align: middle;\n    }\n\n    .dataframe tbody tr th {\n        vertical-align: top;\n    }\n\n    .dataframe thead th {\n        text-align: right;\n    }\n</style>\n<table border=\"1\" class=\"dataframe\">\n  <thead>\n    <tr style=\"text-align: right;\">\n      <th></th>\n      <th>text</th>\n    </tr>\n    <tr>\n      <th>intent</th>\n      <th></th>\n    </tr>\n  </thead>\n  <tbody>\n    <tr>\n      <th>AddToPlaylist</th>\n      <td>1942</td>\n    </tr>\n    <tr>\n      <th>BookRestaurant</th>\n      <td>1973</td>\n    </tr>\n    <tr>\n      <th>GetWeather</th>\n      <td>2000</td>\n    </tr>\n    <tr>\n      <th>PlayMusic</th>\n      <td>2000</td>\n    </tr>\n    <tr>\n      <th>RateBook</th>\n      <td>1956</td>\n    </tr>\n    <tr>\n      <th>SearchCreativeWork</th>\n      <td>1954</td>\n    </tr>\n    <tr>\n      <th>SearchScreeningEvent</th>\n      <td>1959</td>\n    </tr>\n  </tbody>\n</table>\n</div>"
     },
     "execution_count": 31,
     "metadata": {},
     "output_type": "execute_result"
    }
   ],
   "source": [
    "df.groupby('intent').count()"
   ],
   "metadata": {
    "collapsed": false
   }
  },
  {
   "cell_type": "code",
   "execution_count": 39,
   "outputs": [
    {
     "data": {
      "text/plain": "                      text\nintent                    \nAddToPlaylist          100\nBookRestaurant         100\nGetWeather             100\nPlayMusic              100\nRateBook               100\nSearchCreativeWork     100\nSearchScreeningEvent   100",
      "text/html": "<div>\n<style scoped>\n    .dataframe tbody tr th:only-of-type {\n        vertical-align: middle;\n    }\n\n    .dataframe tbody tr th {\n        vertical-align: top;\n    }\n\n    .dataframe thead th {\n        text-align: right;\n    }\n</style>\n<table border=\"1\" class=\"dataframe\">\n  <thead>\n    <tr style=\"text-align: right;\">\n      <th></th>\n      <th>text</th>\n    </tr>\n    <tr>\n      <th>intent</th>\n      <th></th>\n    </tr>\n  </thead>\n  <tbody>\n    <tr>\n      <th>AddToPlaylist</th>\n      <td>100</td>\n    </tr>\n    <tr>\n      <th>BookRestaurant</th>\n      <td>100</td>\n    </tr>\n    <tr>\n      <th>GetWeather</th>\n      <td>100</td>\n    </tr>\n    <tr>\n      <th>PlayMusic</th>\n      <td>100</td>\n    </tr>\n    <tr>\n      <th>RateBook</th>\n      <td>100</td>\n    </tr>\n    <tr>\n      <th>SearchCreativeWork</th>\n      <td>100</td>\n    </tr>\n    <tr>\n      <th>SearchScreeningEvent</th>\n      <td>100</td>\n    </tr>\n  </tbody>\n</table>\n</div>"
     },
     "execution_count": 39,
     "metadata": {},
     "output_type": "execute_result"
    }
   ],
   "source": [
    "validation_df.groupby('intent').count()"
   ],
   "metadata": {
    "collapsed": false
   }
  },
  {
   "cell_type": "code",
   "execution_count": 32,
   "outputs": [],
   "source": [
    "df.to_csv('data/dataset.csv', index=False)"
   ],
   "metadata": {
    "collapsed": false
   }
  },
  {
   "cell_type": "code",
   "execution_count": 33,
   "outputs": [
    {
     "data": {
      "text/plain": "                                                    text                intent\n0      I need to hear the song Aspro Mavro from Bill ...             PlayMusic\n1           play Yo Ho from the new york pops on Youtube             PlayMusic\n2      Play some seventies music by Janne Puurtinen o...             PlayMusic\n3      play the Música Da Série De Filmes O Hobbit al...             PlayMusic\n4                       Play Magic Sam from the thirties             PlayMusic\n...                                                  ...                   ...\n13779  Can a I get the movie schedule for Sympathy fo...  SearchScreeningEvent\n13780  Find movie schedules for animated movies aroun...  SearchScreeningEvent\n13781              what time is Bordertown Trail showing  SearchScreeningEvent\n13782  in the neighbourhood find movies with movie times  SearchScreeningEvent\n13783                 What cinema has the closest movies  SearchScreeningEvent\n\n[13784 rows x 2 columns]",
      "text/html": "<div>\n<style scoped>\n    .dataframe tbody tr th:only-of-type {\n        vertical-align: middle;\n    }\n\n    .dataframe tbody tr th {\n        vertical-align: top;\n    }\n\n    .dataframe thead th {\n        text-align: right;\n    }\n</style>\n<table border=\"1\" class=\"dataframe\">\n  <thead>\n    <tr style=\"text-align: right;\">\n      <th></th>\n      <th>text</th>\n      <th>intent</th>\n    </tr>\n  </thead>\n  <tbody>\n    <tr>\n      <th>0</th>\n      <td>I need to hear the song Aspro Mavro from Bill ...</td>\n      <td>PlayMusic</td>\n    </tr>\n    <tr>\n      <th>1</th>\n      <td>play Yo Ho from the new york pops on Youtube</td>\n      <td>PlayMusic</td>\n    </tr>\n    <tr>\n      <th>2</th>\n      <td>Play some seventies music by Janne Puurtinen o...</td>\n      <td>PlayMusic</td>\n    </tr>\n    <tr>\n      <th>3</th>\n      <td>play the Música Da Série De Filmes O Hobbit al...</td>\n      <td>PlayMusic</td>\n    </tr>\n    <tr>\n      <th>4</th>\n      <td>Play Magic Sam from the thirties</td>\n      <td>PlayMusic</td>\n    </tr>\n    <tr>\n      <th>...</th>\n      <td>...</td>\n      <td>...</td>\n    </tr>\n    <tr>\n      <th>13779</th>\n      <td>Can a I get the movie schedule for Sympathy fo...</td>\n      <td>SearchScreeningEvent</td>\n    </tr>\n    <tr>\n      <th>13780</th>\n      <td>Find movie schedules for animated movies aroun...</td>\n      <td>SearchScreeningEvent</td>\n    </tr>\n    <tr>\n      <th>13781</th>\n      <td>what time is Bordertown Trail showing</td>\n      <td>SearchScreeningEvent</td>\n    </tr>\n    <tr>\n      <th>13782</th>\n      <td>in the neighbourhood find movies with movie times</td>\n      <td>SearchScreeningEvent</td>\n    </tr>\n    <tr>\n      <th>13783</th>\n      <td>What cinema has the closest movies</td>\n      <td>SearchScreeningEvent</td>\n    </tr>\n  </tbody>\n</table>\n<p>13784 rows × 2 columns</p>\n</div>"
     },
     "execution_count": 33,
     "metadata": {},
     "output_type": "execute_result"
    }
   ],
   "source": [
    "df_2 = pd.read_csv('data/dataset.csv')\n",
    "df_2"
   ],
   "metadata": {
    "collapsed": false
   }
  },
  {
   "cell_type": "code",
   "execution_count": 34,
   "outputs": [],
   "source": [
    "import datasets"
   ],
   "metadata": {
    "collapsed": false
   }
  },
  {
   "cell_type": "code",
   "execution_count": 35,
   "outputs": [
    {
     "name": "stdout",
     "output_type": "stream",
     "text": [
      "Downloading and preparing dataset csv/default to /Users/yoangabison/.cache/huggingface/datasets/csv/default-06beae90af7cc058/0.0.0/6b34fb8fcf56f7c8ba51dc895bfa2bfbe43546f190a60fcf74bb5e8afdcc2317...\n"
     ]
    },
    {
     "data": {
      "text/plain": "Downloading data files:   0%|          | 0/1 [00:00<?, ?it/s]",
      "application/vnd.jupyter.widget-view+json": {
       "version_major": 2,
       "version_minor": 0,
       "model_id": "a70fb55506aa4802b7a00cc82ec2eddf"
      }
     },
     "metadata": {},
     "output_type": "display_data"
    },
    {
     "data": {
      "text/plain": "Extracting data files:   0%|          | 0/1 [00:00<?, ?it/s]",
      "application/vnd.jupyter.widget-view+json": {
       "version_major": 2,
       "version_minor": 0,
       "model_id": "5a53135c3c2a4f4eadb3be45b2fbcf13"
      }
     },
     "metadata": {},
     "output_type": "display_data"
    },
    {
     "data": {
      "text/plain": "Generating train split: 0 examples [00:00, ? examples/s]",
      "application/vnd.jupyter.widget-view+json": {
       "version_major": 2,
       "version_minor": 0,
       "model_id": "ad755870733e4a2ca1f5e71f164c8b04"
      }
     },
     "metadata": {},
     "output_type": "display_data"
    },
    {
     "name": "stdout",
     "output_type": "stream",
     "text": [
      "Dataset csv downloaded and prepared to /Users/yoangabison/.cache/huggingface/datasets/csv/default-06beae90af7cc058/0.0.0/6b34fb8fcf56f7c8ba51dc895bfa2bfbe43546f190a60fcf74bb5e8afdcc2317. Subsequent calls will reuse this data.\n"
     ]
    },
    {
     "name": "stderr",
     "output_type": "stream",
     "text": [
      "/Users/yoangabison/Library/Caches/pypoetry/virtualenvs/nlp-project-r4CxO-n--py3.10/lib/python3.10/site-packages/datasets/download/streaming_download_manager.py:776: FutureWarning: the 'mangle_dupe_cols' keyword is deprecated and will be removed in a future version. Please take steps to stop the use of 'mangle_dupe_cols'\n",
      "  return pd.read_csv(xopen(filepath_or_buffer, \"rb\", use_auth_token=use_auth_token), **kwargs)\n"
     ]
    },
    {
     "data": {
      "text/plain": "  0%|          | 0/1 [00:00<?, ?it/s]",
      "application/vnd.jupyter.widget-view+json": {
       "version_major": 2,
       "version_minor": 0,
       "model_id": "690f2d52ee9b427194af6c78fb8fa5d0"
      }
     },
     "metadata": {},
     "output_type": "display_data"
    }
   ],
   "source": [
    "dataset = datasets.load_dataset('csv', data_files='data/dataset.csv')\n"
   ],
   "metadata": {
    "collapsed": false
   }
  },
  {
   "cell_type": "code",
   "execution_count": 36,
   "outputs": [
    {
     "data": {
      "text/plain": "DatasetDict({\n    train: Dataset({\n        features: ['text', 'intent'],\n        num_rows: 13784\n    })\n})"
     },
     "execution_count": 36,
     "metadata": {},
     "output_type": "execute_result"
    }
   ],
   "source": [
    "dataset"
   ],
   "metadata": {
    "collapsed": false
   }
  },
  {
   "cell_type": "code",
   "execution_count": 40,
   "outputs": [],
   "source": [
    "validation_df.to_csv('data/validation_dataset.csv', index=False)"
   ],
   "metadata": {
    "collapsed": false
   }
  },
  {
   "cell_type": "code",
   "execution_count": 87,
   "outputs": [
    {
     "name": "stderr",
     "output_type": "stream",
     "text": [
      "Found cached dataset csv (/Users/yoangabison/.cache/huggingface/datasets/csv/default-d76356ad27cb26f1/0.0.0/6b34fb8fcf56f7c8ba51dc895bfa2bfbe43546f190a60fcf74bb5e8afdcc2317)\n"
     ]
    },
    {
     "data": {
      "text/plain": "  0%|          | 0/2 [00:00<?, ?it/s]",
      "application/vnd.jupyter.widget-view+json": {
       "version_major": 2,
       "version_minor": 0,
       "model_id": "9f577e97e6b348469effe9d61c9d944b"
      }
     },
     "metadata": {},
     "output_type": "display_data"
    }
   ],
   "source": [
    "# Create a dataset dict with train as dataset.csv and validation as validation_dataset.csv\n",
    "dataset_dict = datasets.load_dataset(\n",
    "    'csv',\n",
    "     data_files={\n",
    "        'train': 'data/dataset.csv',\n",
    "        'validation': 'data/validation_dataset.csv'\n",
    "     }\n",
    ")"
   ],
   "metadata": {
    "collapsed": false
   }
  },
  {
   "cell_type": "code",
   "execution_count": 88,
   "outputs": [
    {
     "name": "stderr",
     "output_type": "stream",
     "text": [
      "Loading cached processed dataset at /Users/yoangabison/.cache/huggingface/datasets/csv/default-d76356ad27cb26f1/0.0.0/6b34fb8fcf56f7c8ba51dc895bfa2bfbe43546f190a60fcf74bb5e8afdcc2317/cache-ce5782c836e2b325.arrow\n",
      "Loading cached processed dataset at /Users/yoangabison/.cache/huggingface/datasets/csv/default-d76356ad27cb26f1/0.0.0/6b34fb8fcf56f7c8ba51dc895bfa2bfbe43546f190a60fcf74bb5e8afdcc2317/cache-8f3970d9d70b6952.arrow\n"
     ]
    }
   ],
   "source": [
    "def label_to_int(intent) :\n",
    "    if intent == 'AddToPlaylist':\n",
    "        return 0\n",
    "    elif intent == 'BookRestaurant':\n",
    "        return 1\n",
    "    elif intent == 'GetWeather':\n",
    "        return 2\n",
    "    elif intent == 'PlayMusic':\n",
    "        return 3\n",
    "    elif intent == 'RateBook':\n",
    "        return 4\n",
    "    elif intent == 'SearchCreativeWork':\n",
    "        return 5\n",
    "    elif intent == 'SearchScreeningEvent':\n",
    "        return 6\n",
    "    return -1\n",
    "\n",
    "\n",
    "def adjust_labels(entries):\n",
    "    res = {}\n",
    "    res['text'] = entries['text']\n",
    "    res['intent'] = [label_to_int(entry) for entry in entries['intent']]\n",
    "    return res\n",
    "\n",
    "\n",
    "for split in ['train', 'validation']:\n",
    "    dataset_dict[split] = dataset_dict[split].map(\n",
    "        lambda e: adjust_labels(e), batched=True)"
   ],
   "metadata": {
    "collapsed": false
   }
  },
  {
   "cell_type": "code",
   "execution_count": 89,
   "outputs": [
    {
     "data": {
      "text/plain": "{'text': 'play Yo Ho from the new york pops on Youtube', 'intent': 3}"
     },
     "execution_count": 89,
     "metadata": {},
     "output_type": "execute_result"
    }
   ],
   "source": [
    "dataset_dict['train'][1]"
   ],
   "metadata": {
    "collapsed": false
   }
  },
  {
   "cell_type": "code",
   "execution_count": 90,
   "outputs": [
    {
     "name": "stderr",
     "output_type": "stream",
     "text": [
      "Loading cached processed dataset at /Users/yoangabison/.cache/huggingface/datasets/csv/default-d76356ad27cb26f1/0.0.0/6b34fb8fcf56f7c8ba51dc895bfa2bfbe43546f190a60fcf74bb5e8afdcc2317/cache-3f210ed6f65451dd.arrow\n"
     ]
    },
    {
     "data": {
      "text/plain": "Map:   0%|          | 0/700 [00:00<?, ? examples/s]",
      "application/vnd.jupyter.widget-view+json": {
       "version_major": 2,
       "version_minor": 0,
       "model_id": "79e28c2f41444a008a9078478319f4c6"
      }
     },
     "metadata": {},
     "output_type": "display_data"
    }
   ],
   "source": [
    "from transformers import AutoTokenizer\n",
    "\n",
    "tokenizer = AutoTokenizer.from_pretrained(\"bert-base-cased\", use_fast=True)\n",
    "\n",
    "def tokenize_function(examples):\n",
    "    return tokenizer(examples[\"text\"], padding=\"max_length\", truncation=True)\n",
    "\n",
    "tokenized_datasets = dataset_dict.map(tokenize_function, batched=True)"
   ],
   "metadata": {
    "collapsed": false
   }
  },
  {
   "cell_type": "code",
   "execution_count": 91,
   "outputs": [],
   "source": [
    "tokenized_datasets = tokenized_datasets.remove_columns([\"text\"])\n",
    "tokenized_datasets = tokenized_datasets.rename_column(\"intent\", \"labels\")\n",
    "tokenized_datasets.set_format(\"torch\")"
   ],
   "metadata": {
    "collapsed": false
   }
  },
  {
   "cell_type": "code",
   "execution_count": 92,
   "outputs": [],
   "source": [
    "from torch.utils.data import DataLoader\n",
    "train_dataloader = DataLoader(tokenized_datasets[\"train\"], shuffle=True, batch_size=8)\n",
    "eval_dataloader = DataLoader(tokenized_datasets[\"validation\"], batch_size=8)"
   ],
   "metadata": {
    "collapsed": false
   }
  },
  {
   "cell_type": "code",
   "execution_count": 98,
   "outputs": [
    {
     "name": "stderr",
     "output_type": "stream",
     "text": [
      "Some weights of the model checkpoint at prajjwal1/bert-tiny were not used when initializing BertForSequenceClassification: ['cls.predictions.decoder.bias', 'cls.seq_relationship.weight', 'cls.predictions.decoder.weight', 'cls.predictions.transform.dense.weight', 'cls.predictions.transform.LayerNorm.weight', 'cls.predictions.transform.dense.bias', 'cls.seq_relationship.bias', 'cls.predictions.transform.LayerNorm.bias', 'cls.predictions.bias']\n",
      "- This IS expected if you are initializing BertForSequenceClassification from the checkpoint of a model trained on another task or with another architecture (e.g. initializing a BertForSequenceClassification model from a BertForPreTraining model).\n",
      "- This IS NOT expected if you are initializing BertForSequenceClassification from the checkpoint of a model that you expect to be exactly identical (initializing a BertForSequenceClassification model from a BertForSequenceClassification model).\n",
      "Some weights of BertForSequenceClassification were not initialized from the model checkpoint at prajjwal1/bert-tiny and are newly initialized: ['classifier.weight', 'classifier.bias']\n",
      "You should probably TRAIN this model on a down-stream task to be able to use it for predictions and inference.\n"
     ]
    }
   ],
   "source": [
    "from transformers import AutoModelForSequenceClassification\n",
    "# This model is equal to BERT + a linear layer for classification. In our custom model we designed a FastText + a hidden layer and linear layer for classification\n",
    "model = AutoModelForSequenceClassification.from_pretrained(\"prajjwal1/bert-tiny\", num_labels=7)"
   ],
   "metadata": {
    "collapsed": false
   }
  },
  {
   "cell_type": "code",
   "execution_count": 99,
   "outputs": [],
   "source": [
    "from torch.optim import AdamW\n",
    "optimizer = AdamW(model.parameters(), lr=5e-5)"
   ],
   "metadata": {
    "collapsed": false
   }
  },
  {
   "cell_type": "code",
   "execution_count": 100,
   "outputs": [],
   "source": [
    "from transformers import get_scheduler\n",
    "\n",
    "num_epochs = 3\n",
    "num_training_steps = num_epochs * len(train_dataloader)\n",
    "lr_scheduler = get_scheduler(\n",
    "    name=\"linear\", optimizer=optimizer, num_warmup_steps=0, num_training_steps=num_training_steps\n",
    ")"
   ],
   "metadata": {
    "collapsed": false
   }
  },
  {
   "cell_type": "code",
   "execution_count": 101,
   "outputs": [
    {
     "data": {
      "text/plain": "  0%|          | 0/5169 [00:00<?, ?it/s]",
      "application/vnd.jupyter.widget-view+json": {
       "version_major": 2,
       "version_minor": 0,
       "model_id": "019d7790413a4053b7a552f9ca218435"
      }
     },
     "metadata": {},
     "output_type": "display_data"
    }
   ],
   "source": [
    "from tqdm.auto import tqdm\n",
    "import torch\n",
    "\n",
    "device = \"cuda\" if torch.cuda.is_available() else \"cpu\"\n",
    "progress_bar = tqdm(range(num_training_steps))\n",
    "\n",
    "model.train()\n",
    "for epoch in range(num_epochs):\n",
    "    for batch in train_dataloader:\n",
    "        batch = {k: v.to(device) for k, v in batch.items()}\n",
    "        outputs = model(**batch)\n",
    "        loss = outputs.loss\n",
    "        loss.backward()\n",
    "\n",
    "        optimizer.step()\n",
    "        lr_scheduler.step()\n",
    "        optimizer.zero_grad()\n",
    "        progress_bar.update(1)"
   ],
   "metadata": {
    "collapsed": false
   }
  },
  {
   "cell_type": "code",
   "execution_count": 102,
   "outputs": [
    {
     "name": "stderr",
     "output_type": "stream",
     "text": [
      "/var/folders/5q/nhw4d0ys1kqgclnb7dz1yphm0000gp/T/ipykernel_33365/3472972976.py:2: FutureWarning: load_metric is deprecated and will be removed in the next major version of datasets. Use 'evaluate.load' instead, from the new library 🤗 Evaluate: https://huggingface.co/docs/evaluate\n",
      "  metric = load_metric(\"accuracy\")\n"
     ]
    },
    {
     "data": {
      "text/plain": "Downloading builder script:   0%|          | 0.00/1.65k [00:00<?, ?B/s]",
      "application/vnd.jupyter.widget-view+json": {
       "version_major": 2,
       "version_minor": 0,
       "model_id": "59678b71e08547bd97c12c7c2be77ab7"
      }
     },
     "metadata": {},
     "output_type": "display_data"
    },
    {
     "data": {
      "text/plain": "evaluating:   0%|          | 0/88 [00:00<?, ?it/s]",
      "application/vnd.jupyter.widget-view+json": {
       "version_major": 2,
       "version_minor": 0,
       "model_id": "65a1ed569a7a47d5a38a344faa090882"
      }
     },
     "metadata": {},
     "output_type": "display_data"
    },
    {
     "data": {
      "text/plain": "{'accuracy': 0.9671428571428572}"
     },
     "execution_count": 102,
     "metadata": {},
     "output_type": "execute_result"
    }
   ],
   "source": [
    "from datasets import load_metric\n",
    "metric = load_metric(\"accuracy\")\n",
    "model.eval()\n",
    "preds, trues = [], []\n",
    "for i, batch in tqdm(enumerate(eval_dataloader), desc=\"evaluating\", total=eval_dataloader.__len__()):\n",
    "    batch = {k: v.to(device) for k, v in batch.items()}\n",
    "    with torch.no_grad():\n",
    "        outputs = model(**batch)\n",
    "\n",
    "    logits = outputs.logits\n",
    "    predictions = torch.argmax(logits, dim=-1)\n",
    "    metric.add_batch(predictions=predictions, references=batch[\"labels\"])\n",
    "\n",
    "    _, tag_seq  = torch.max(logits, 1)\n",
    "    preds.extend(tag_seq.cpu().detach().tolist())\n",
    "    trues.extend(batch['labels'].cpu().detach().tolist())\n",
    "\n",
    "metric.compute()"
   ],
   "metadata": {
    "collapsed": false
   }
  },
  {
   "cell_type": "code",
   "execution_count": 104,
   "outputs": [
    {
     "name": "stdout",
     "output_type": "stream",
     "text": [
      "                      precision    recall  f1-score   support\n",
      "\n",
      "       AddToPlaylist       0.96      1.00      0.98       100\n",
      "      BookRestaurant       0.99      0.99      0.99       100\n",
      "          GetWeather       0.99      0.98      0.98       100\n",
      "           PlayMusic       1.00      0.95      0.97       100\n",
      "            RateBook       1.00      0.99      0.99       100\n",
      "  SearchCreativeWork       0.90      0.96      0.93       100\n",
      "SearchScreeningEvent       0.94      0.90      0.92       100\n",
      "\n",
      "            accuracy                           0.97       700\n",
      "           macro avg       0.97      0.97      0.97       700\n",
      "        weighted avg       0.97      0.97      0.97       700\n",
      "\n"
     ]
    }
   ],
   "source": [
    "import numpy as np\n",
    "from sklearn.metrics import classification_report, confusion_matrix, roc_curve, auc\n",
    "\n",
    "names = ['AddToPlaylist', 'BookRestaurant', 'GetWeather', 'PlayMusic', 'RateBook', 'SearchCreativeWork', 'SearchScreeningEvent']\n",
    "print(classification_report(np.array(trues).flatten(), np.array(preds).flatten(), target_names=names))"
   ],
   "metadata": {
    "collapsed": false
   }
  },
  {
   "cell_type": "code",
   "execution_count": 105,
   "outputs": [
    {
     "data": {
      "text/plain": "<Figure size 640x480 with 2 Axes>",
      "image/png": "[encoded data removed]"
     },
     "metadata": {},
     "output_type": "display_data"
    }
   ],
   "source": [
    "from sklearn.metrics import classification_report, confusion_matrix, roc_curve, auc\n",
    "import matplotlib.pyplot as plt\n",
    "import seaborn as sn\n",
    "\n",
    "cm = confusion_matrix(np.array(trues).flatten(), np.array(preds).flatten())\n",
    "df_cm = pd.DataFrame(cm, index=names, columns=names)\n",
    "# config plot sizes\n",
    "sn.set(font_scale=1)\n",
    "sn.heatmap(df_cm, annot=True, annot_kws={\"size\": 8}, cmap='coolwarm', linewidth=0.5, fmt=\"\")\n",
    "plt.show()"
   ],
   "metadata": {
    "collapsed": false
   }
  },
  {
   "cell_type": "code",
   "execution_count": 107,
   "outputs": [],
   "source": [
    "# Save model\n",
    "model.save_pretrained('models/bert_tiny')"
   ],
   "metadata": {
    "collapsed": false
   }
  },
  {
   "cell_type": "code",
   "execution_count": 111,
   "outputs": [
    {
     "name": "stdout",
     "output_type": "stream",
     "text": [
      "PlayMusic\n"
     ]
    }
   ],
   "source": [
    "# Test with a custom sentence\n",
    "from transformers import AutoTokenizer, AutoModelForSequenceClassification\n",
    "import torch\n",
    "\n",
    "tokenizer = AutoTokenizer.from_pretrained(\"bert-base-cased\", use_fast=True)\n",
    "model = AutoModelForSequenceClassification.from_pretrained(\"models/bert_tiny\", num_labels=7)\n",
    "\n",
    "def int_to_label(intent) :\n",
    "    if intent == 0:\n",
    "        return 'AddToPlaylist'\n",
    "    elif intent == 1:\n",
    "        return 'BookRestaurant'\n",
    "    elif intent == 2:\n",
    "        return 'GetWeather'\n",
    "    elif intent == 3:\n",
    "        return 'PlayMusic'\n",
    "    elif intent == 4:\n",
    "        return 'RateBook'\n",
    "    elif intent == 5:\n",
    "        return 'SearchCreativeWork'\n",
    "    elif intent == 6:\n",
    "        return 'SearchScreeningEvent'\n",
    "    return \"Unknown\"\n",
    "\n",
    "def predict(sentence):\n",
    "    inputs = tokenizer(sentence, return_tensors=\"pt\")\n",
    "    outputs = model(**inputs)\n",
    "    logits = outputs.logits\n",
    "    predictions = torch.argmax(logits, dim=-1)\n",
    "    return int_to_label(predictions[0].item())\n",
    "\n",
    "sentence = \"I want to listen to some music\"\n",
    "print(predict(sentence))"
   ],
   "metadata": {
    "collapsed": false
   }
  },
  {
   "cell_type": "code",
   "execution_count": null,
   "outputs": [],
   "source": [],
   "metadata": {
    "collapsed": false
   }
  }
 ],
 "metadata": {
  "kernelspec": {
   "display_name": "Python 3",
   "language": "python",
   "name": "python3"
  },
  "language_info": {
   "codemirror_mode": {
    "name": "ipython",
    "version": 2
   },
   "file_extension": ".py",
   "mimetype": "text/x-python",
   "name": "python",
   "nbconvert_exporter": "python",
   "pygments_lexer": "ipython2",
   "version": "2.7.6"
  }
 },
 "nbformat": 4,
 "nbformat_minor": 0
}
